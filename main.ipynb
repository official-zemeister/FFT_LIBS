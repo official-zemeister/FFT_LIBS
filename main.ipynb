{
 "cells": [
  {
   "cell_type": "code",
   "execution_count": 1,
   "metadata": {},
   "outputs": [],
   "source": [
    "from src.functions import *"
    "from src.data_loader import *"
   ]
  },
  {
   "cell_type": "code",
   "execution_count": null,
   "metadata": {},
   "outputs": [],
   "source": [
    "smallest_feature = 10 # pixels\n",
    "biggest_feature = 90 # pixels\n",
    "step = 0.5 # map resolution, in the present case mm/pixel \n",
    "\n",
    "mmap = libs_cube # libs data of shape (x_size, y_size, wavelengths)\n",
    "SIR = fft_feature(mmap, biggest_feature, smallest_feature, step)"
   ]
  }
 ],
 "metadata": {
  "kernelspec": {
   "display_name": "base",
   "language": "python",
   "name": "python3"
  },
  "language_info": {
   "codemirror_mode": {
    "name": "ipython",
    "version": 3
   },
   "file_extension": ".py",
   "mimetype": "text/x-python",
   "name": "python",
   "nbconvert_exporter": "python",
   "pygments_lexer": "ipython3",
   "version": "3.7.6"
  }
 },
 "nbformat": 4,
 "nbformat_minor": 2
}
